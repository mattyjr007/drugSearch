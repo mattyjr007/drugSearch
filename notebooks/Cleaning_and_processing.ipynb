{
 "cells": [
  {
   "cell_type": "code",
   "execution_count": null,
   "id": "8f715a43-ef39-4456-88b1-10b25a3d39b9",
   "metadata": {},
   "outputs": [],
   "source": []
  },
  {
   "cell_type": "code",
   "execution_count": 1,
   "id": "bd7c7686-f9dc-4395-85e3-91d51ac7bc97",
   "metadata": {
    "tags": []
   },
   "outputs": [],
   "source": [
    "#import libraries used\n",
    "import pandas as pd\n",
    "import numpy as np\n",
    "import re\n",
    "from fuzzywuzzy import fuzz\n",
    "from bs4 import BeautifulSoup\n",
    "import requests"
   ]
  },
  {
   "cell_type": "code",
   "execution_count": 2,
   "id": "6ba515c2-23f0-43db-afba-0c9862599eeb",
   "metadata": {
    "tags": []
   },
   "outputs": [
    {
     "data": {
      "text/html": [
       "<div>\n",
       "<style scoped>\n",
       "    .dataframe tbody tr th:only-of-type {\n",
       "        vertical-align: middle;\n",
       "    }\n",
       "\n",
       "    .dataframe tbody tr th {\n",
       "        vertical-align: top;\n",
       "    }\n",
       "\n",
       "    .dataframe thead th {\n",
       "        text-align: right;\n",
       "    }\n",
       "</style>\n",
       "<table border=\"1\" class=\"dataframe\">\n",
       "  <thead>\n",
       "    <tr style=\"text-align: right;\">\n",
       "      <th></th>\n",
       "      <th>drug_name</th>\n",
       "      <th>medical_condition</th>\n",
       "      <th>side_effects</th>\n",
       "      <th>generic_name</th>\n",
       "      <th>drug_classes</th>\n",
       "      <th>brand_names</th>\n",
       "      <th>activity</th>\n",
       "      <th>rx_otc</th>\n",
       "      <th>pregnancy_category</th>\n",
       "      <th>csa</th>\n",
       "      <th>alcohol</th>\n",
       "      <th>related_drugs</th>\n",
       "      <th>medical_condition_description</th>\n",
       "      <th>rating</th>\n",
       "      <th>no_of_reviews</th>\n",
       "      <th>drug_link</th>\n",
       "      <th>medical_condition_url</th>\n",
       "    </tr>\n",
       "  </thead>\n",
       "  <tbody>\n",
       "    <tr>\n",
       "      <th>0</th>\n",
       "      <td>doxycycline</td>\n",
       "      <td>Acne</td>\n",
       "      <td>(hives, difficult breathing, swelling in your ...</td>\n",
       "      <td>doxycycline</td>\n",
       "      <td>Miscellaneous antimalarials, Tetracyclines</td>\n",
       "      <td>Acticlate, Adoxa CK, Adoxa Pak, Adoxa TT, Alod...</td>\n",
       "      <td>87%</td>\n",
       "      <td>Rx</td>\n",
       "      <td>D</td>\n",
       "      <td>N</td>\n",
       "      <td>X</td>\n",
       "      <td>amoxicillin: https://www.drugs.com/amoxicillin...</td>\n",
       "      <td>Acne Other names: Acne Vulgaris; Blackheads; B...</td>\n",
       "      <td>6.8</td>\n",
       "      <td>760.0</td>\n",
       "      <td>https://www.drugs.com/doxycycline.html</td>\n",
       "      <td>https://www.drugs.com/condition/acne.html</td>\n",
       "    </tr>\n",
       "    <tr>\n",
       "      <th>1</th>\n",
       "      <td>spironolactone</td>\n",
       "      <td>Acne</td>\n",
       "      <td>hives ; difficulty breathing; swelling of your...</td>\n",
       "      <td>spironolactone</td>\n",
       "      <td>Aldosterone receptor antagonists, Potassium-sp...</td>\n",
       "      <td>Aldactone, CaroSpir</td>\n",
       "      <td>82%</td>\n",
       "      <td>Rx</td>\n",
       "      <td>C</td>\n",
       "      <td>N</td>\n",
       "      <td>X</td>\n",
       "      <td>amlodipine: https://www.drugs.com/amlodipine.h...</td>\n",
       "      <td>Acne Other names: Acne Vulgaris; Blackheads; B...</td>\n",
       "      <td>7.2</td>\n",
       "      <td>449.0</td>\n",
       "      <td>https://www.drugs.com/spironolactone.html</td>\n",
       "      <td>https://www.drugs.com/condition/acne.html</td>\n",
       "    </tr>\n",
       "  </tbody>\n",
       "</table>\n",
       "</div>"
      ],
      "text/plain": [
       "        drug_name medical_condition   \n",
       "0     doxycycline              Acne  \\\n",
       "1  spironolactone              Acne   \n",
       "\n",
       "                                        side_effects    generic_name   \n",
       "0  (hives, difficult breathing, swelling in your ...     doxycycline  \\\n",
       "1  hives ; difficulty breathing; swelling of your...  spironolactone   \n",
       "\n",
       "                                        drug_classes   \n",
       "0         Miscellaneous antimalarials, Tetracyclines  \\\n",
       "1  Aldosterone receptor antagonists, Potassium-sp...   \n",
       "\n",
       "                                         brand_names activity rx_otc   \n",
       "0  Acticlate, Adoxa CK, Adoxa Pak, Adoxa TT, Alod...      87%     Rx  \\\n",
       "1                                Aldactone, CaroSpir      82%     Rx   \n",
       "\n",
       "  pregnancy_category csa alcohol   \n",
       "0                  D   N       X  \\\n",
       "1                  C   N       X   \n",
       "\n",
       "                                       related_drugs   \n",
       "0  amoxicillin: https://www.drugs.com/amoxicillin...  \\\n",
       "1  amlodipine: https://www.drugs.com/amlodipine.h...   \n",
       "\n",
       "                       medical_condition_description  rating  no_of_reviews   \n",
       "0  Acne Other names: Acne Vulgaris; Blackheads; B...     6.8          760.0  \\\n",
       "1  Acne Other names: Acne Vulgaris; Blackheads; B...     7.2          449.0   \n",
       "\n",
       "                                   drug_link   \n",
       "0     https://www.drugs.com/doxycycline.html  \\\n",
       "1  https://www.drugs.com/spironolactone.html   \n",
       "\n",
       "                       medical_condition_url  \n",
       "0  https://www.drugs.com/condition/acne.html  \n",
       "1  https://www.drugs.com/condition/acne.html  "
      ]
     },
     "execution_count": 2,
     "metadata": {},
     "output_type": "execute_result"
    }
   ],
   "source": [
    "#load the dataset\n",
    "df = pd.read_csv('Drugs Master List.csv')\n",
    "df.head(2)"
   ]
  },
  {
   "cell_type": "code",
   "execution_count": 3,
   "id": "59688034-0217-4fc5-a86f-d00b239cdbe9",
   "metadata": {
    "tags": []
   },
   "outputs": [],
   "source": [
    "# replace value for salbutamol which contains html string\n",
    "idx = df[df['drug_name'] == 'salbutamol'].index[0]\n",
    "df.at[idx,'side_effects'] = np.nan"
   ]
  },
  {
   "cell_type": "markdown",
   "id": "f4235084-cdf5-4b60-898e-2db1e6d2b96c",
   "metadata": {},
   "source": [
    "## Side Effects Cleaning"
   ]
  },
  {
   "cell_type": "code",
   "execution_count": 4,
   "id": "fb18e9ff-b080-4a39-b6a9-d02c02bfbdb8",
   "metadata": {
    "tags": []
   },
   "outputs": [],
   "source": [
    "# function to remove similar string and duplicates\n",
    "def remove_similar_duplicates(items):\n",
    "    unique_items = []\n",
    "    for item in items:\n",
    "        is_duplicate = False\n",
    "        for unique_item in unique_items:\n",
    "            similarity_ratio = fuzz.ratio(item, unique_item)\n",
    "            if similarity_ratio >= 40:  # Adjust the similarity threshold as per your requirements\n",
    "                is_duplicate = True\n",
    "                break\n",
    "        if not is_duplicate:\n",
    "            unique_items.append(item)\n",
    "    return unique_items"
   ]
  },
  {
   "cell_type": "code",
   "execution_count": 5,
   "id": "4f70b751-fa6e-483f-bee2-7f6cbee8c6c8",
   "metadata": {
    "tags": []
   },
   "outputs": [],
   "source": [
    "# clean side effects with files containg \"along\" string pattern\n",
    "def clean_along(col):\n",
    "    txt = str(col)\n",
    "    samp = txt.lower()\n",
    "    samp = samp.split(\":\")[1:]\n",
    "\n",
    "    sentt =\" \".join(samp).split(\".\")[0]\n",
    "\n",
    "    sentt = sentt.split(\"some side\")[0]\n",
    "\n",
    "    sentt =sentt.split(\"incidence not known\")[:]\n",
    "\n",
    "    if len(sentt[0]) > 1:\n",
    "        sentt =sentt[:1]\n",
    "    else:\n",
    "        sentt = sentt[1]\n",
    "\n",
    "    sentences = re.split(r\"[;:]\", \"\".join(sentt))\n",
    "\n",
    "    filtered_items = [item.replace('rare', '').strip() for item in sentences]\n",
    "\n",
    "    filtered_items = [item.replace('less common ', '').strip() for item in filtered_items]\n",
    "\n",
    "    filtered_items = [item.replace('more common ', '').strip() for item in filtered_items]\n",
    "\n",
    "\n",
    "    filtered_items = [item.strip() for item in filtered_items if item.strip()]\n",
    "\n",
    "    filtered_items = filtered_items = [item[3:].strip() if item.startswith('or ') else item for item in filtered_items]\n",
    "\n",
    "    return filtered_items"
   ]
  },
  {
   "cell_type": "code",
   "execution_count": 6,
   "id": "75637bd8-3123-482a-92d2-b12e073e7c81",
   "metadata": {
    "tags": []
   },
   "outputs": [],
   "source": [
    "# words to exclude in a search string\n",
    "exclude_words = ['have','occur','include','known','provider','healthcare',\n",
    "                 'may','sometime','stop','form ', 'children','1088',\n",
    "                 'any','following','month','days',\n",
    "                 'include','reaction','last dose',\n",
    "                 'if you', 'allergic reaction','warning','notice','along','side effects', 'doctor', 'signs of','questions']\n",
    "\n",
    "# clean side effects string based on split values\n",
    "def clean_side_effect(col_value,split = \"have\"):\n",
    "    \n",
    "    splited_text = col_value.split(split)[1:]\n",
    "\n",
    "    sentences = re.split(r\"[.;:)(]\", \" \".join(splited_text))\n",
    "\n",
    "    filtered_items = [item for item in sentences if not any(word in item for word in exclude_words)]\n",
    "\n",
    "    filtered_items = [item.strip() for item in filtered_items if item.strip()]\n",
    "\n",
    "    filtered_items =[item.split(\",\") for item in filtered_items]\n",
    "    # flatten list\n",
    "    filtered_items = [element for sublist in filtered_items for element in sublist]\n",
    "\n",
    "    # replace  values\n",
    "    filtered_items = [item.replace('severe', '').strip() for item in filtered_items]\n",
    "    filtered_items = [item.replace('more common', '').strip() for item in filtered_items]\n",
    "    filtered_items = [item.replace('especially on one side of the body', '').strip() for item in filtered_items]\n",
    "\n",
    "    # remove or from words start\n",
    "    filtered_items = filtered_items = [item[3:].strip() if item.startswith('or ') else item for item in filtered_items]\n",
    "    # remove duplicate/similar words to reduce redudancy\n",
    "    filtered_items = remove_similar_duplicates(filtered_items)\n",
    "    # remove words less than length 2\n",
    "    filtered_items = [item.strip() for item in filtered_items if len(item)>2]\n",
    "\n",
    "    return filtered_items"
   ]
  },
  {
   "cell_type": "code",
   "execution_count": 7,
   "id": "6fc02957-610e-4035-a961-cd46654756f6",
   "metadata": {
    "tags": []
   },
   "outputs": [],
   "source": [
    "#another function with split and clean strategy\n",
    "def clean_simple_text(col_values):\n",
    "    \n",
    "    filtered_items = re.split(r\"[.;,:)(]\", col_values)\n",
    "    \n",
    "    filtered_items = [item.strip() for item in filtered_items if item.strip()]\n",
    "    filtered_items = filtered_items = [item[3:].strip() if item.startswith('or ') else item for item in filtered_items]\n",
    "    # remove duplicate/similar words to reduce redudancy\n",
    "    filtered_items = remove_similar_duplicates(filtered_items)\n",
    "    \n",
    "    filtered_items = [item.strip() for item in filtered_items if len(item)>2]\n",
    "\n",
    "    return filtered_items"
   ]
  },
  {
   "cell_type": "code",
   "execution_count": 8,
   "id": "7b07ddb6-6d71-4c5d-8db5-9c9725cdba5e",
   "metadata": {
    "tags": []
   },
   "outputs": [],
   "source": [
    "#function to clean the side effect dataframe col, trying out multiple split and clean strategy\n",
    "def clean_sfx_column(col_value):\n",
    "    \n",
    "    if col_value is np.nan:\n",
    "        return []\n",
    "\n",
    "    col_value = str(col_value).strip().lower()\n",
    "\n",
    "    if col_value[:5] == \"along\":\n",
    "        return clean_along(col_value)\n",
    "\n",
    "    filtered_items= clean_side_effect(col_value,split=\"have\")\n",
    "\n",
    "    if len(filtered_items) < 3:\n",
    "        filtered_items = clean_side_effect(col_value,split=\"occur\")\n",
    "\n",
    "    if len(filtered_items) < 2:\n",
    "        filtered_items = clean_side_effect(col_value,split=\"known\")\n",
    "\n",
    "    if len(filtered_items) < 3:\n",
    "        filtered_items = clean_side_effect(col_value,split=\"include\")\n",
    "    \n",
    "    if len(filtered_items) < 1:\n",
    "        filtered_items = clean_simple_text(col_value)\n",
    "\n",
    "    return filtered_items"
   ]
  },
  {
   "cell_type": "code",
   "execution_count": 9,
   "id": "1c36c455-a2e1-4407-9bfb-c2dc93ca2e66",
   "metadata": {
    "tags": []
   },
   "outputs": [
    {
     "name": "stdout",
     "output_type": "stream",
     "text": [
      "<class 'pandas.core.frame.DataFrame'>\n",
      "RangeIndex: 999 entries, 0 to 998\n",
      "Data columns (total 17 columns):\n",
      " #   Column                         Non-Null Count  Dtype  \n",
      "---  ------                         --------------  -----  \n",
      " 0   drug_name                      999 non-null    object \n",
      " 1   medical_condition              999 non-null    object \n",
      " 2   side_effects                   970 non-null    object \n",
      " 3   generic_name                   987 non-null    object \n",
      " 4   drug_classes                   978 non-null    object \n",
      " 5   brand_names                    613 non-null    object \n",
      " 6   activity                       999 non-null    object \n",
      " 7   rx_otc                         999 non-null    object \n",
      " 8   pregnancy_category             927 non-null    object \n",
      " 9   csa                            999 non-null    object \n",
      " 10  alcohol                        504 non-null    object \n",
      " 11  related_drugs                  491 non-null    object \n",
      " 12  medical_condition_description  999 non-null    object \n",
      " 13  rating                         507 non-null    float64\n",
      " 14  no_of_reviews                  507 non-null    float64\n",
      " 15  drug_link                      999 non-null    object \n",
      " 16  medical_condition_url          999 non-null    object \n",
      "dtypes: float64(2), object(15)\n",
      "memory usage: 132.8+ KB\n"
     ]
    }
   ],
   "source": [
    "# get data info \n",
    "df.info()"
   ]
  },
  {
   "cell_type": "code",
   "execution_count": 10,
   "id": "bb9f793f-e821-44e7-ad68-b8e961b28ce3",
   "metadata": {
    "tags": []
   },
   "outputs": [
    {
     "name": "stdout",
     "output_type": "stream",
     "text": [
      "CPU times: user 407 ms, sys: 6.47 ms, total: 413 ms\n",
      "Wall time: 496 ms\n"
     ]
    }
   ],
   "source": [
    "%%time\n",
    "df['side_effects'] = df['side_effects'].apply(clean_sfx_column) # apply clean side effects to side_effects column"
   ]
  },
  {
   "cell_type": "code",
   "execution_count": 11,
   "id": "3d0e7f50-2164-4779-bf78-23b4833c0511",
   "metadata": {
    "tags": []
   },
   "outputs": [
    {
     "data": {
      "text/plain": [
       "0      [skin rash, fever, flu-like symptoms, muscle a...\n",
       "1      [a light-headed feeling, like you might pass o...\n",
       "2      [little or no urination, swelling in your feet...\n",
       "3      [nosebleeds, headache, back pain, cold symptom...\n",
       "4      [redness, itching, dryness of treated skin are...\n",
       "                             ...                        \n",
       "994    [chest pain, fast, slow, uneven heart rate, di...\n",
       "995    [hives, difficult breathing, swelling of your ...\n",
       "996    [hives, itching, red, swollen, peeling skin wi...\n",
       "997    [noisy breathing, drowsiness, hallucinations, ...\n",
       "998    [dizziness, trouble sleeping, high blood press...\n",
       "Name: side_effects, Length: 999, dtype: object"
      ]
     },
     "execution_count": 11,
     "metadata": {},
     "output_type": "execute_result"
    }
   ],
   "source": [
    "df['side_effects']"
   ]
  },
  {
   "cell_type": "code",
   "execution_count": 12,
   "id": "f8b4a318-958b-41ec-b137-099a1247d232",
   "metadata": {
    "tags": []
   },
   "outputs": [],
   "source": [
    "df['sfx_count'] = df['side_effects'].apply(lambda a: len(a))"
   ]
  },
  {
   "cell_type": "markdown",
   "id": "52ecbdee-8e35-4479-b7e9-0f895a9e5e60",
   "metadata": {},
   "source": [
    "## Missing side effects"
   ]
  },
  {
   "cell_type": "code",
   "execution_count": 13,
   "id": "bf702323-1651-4023-b25b-ddd54acb6c10",
   "metadata": {
    "tags": []
   },
   "outputs": [],
   "source": [
    "# stratedy to find side effect from html\n",
    "def find_elements(soup, common):\n",
    "    common_text = common#\"More common\"\n",
    "\n",
    "    # Find all elements containing the common text\n",
    "    elements = soup.find_all(string=common_text)\n",
    "\n",
    "    # Find the first list after the common text\n",
    "    target_list = None\n",
    "    for element in elements:\n",
    "        if element.find_next(\"ul\"):\n",
    "            target_list = element.find_next(\"ul\")\n",
    "            break\n",
    "    \n",
    "    effects = []\n",
    "    # Print the contents of the first list\n",
    "    if target_list:\n",
    "        for li in target_list.find_all(\"li\"):\n",
    "            effects.append(li.text.strip())\n",
    "    else:\n",
    "        pass\n",
    "    \n",
    "    return effects"
   ]
  },
  {
   "cell_type": "code",
   "execution_count": 14,
   "id": "54b72162-90d2-4844-aae1-e17f0f31ed51",
   "metadata": {
    "tags": []
   },
   "outputs": [],
   "source": [
    "# stratedy to find side effect from html\n",
    "def sfx_from_paragraph(soup, common_text = \"Side effects include:\", find = \"p\"):\n",
    "\n",
    "\n",
    "    # Common text to search for\n",
    "    common_text = common_text\n",
    "\n",
    "    # Find all <b> tags containing the common text\n",
    "    found_p = soup.find_all(find, string=common_text)\n",
    "\n",
    "    # Retrieve the values within the paragraphs containing the <b> tags\n",
    "    values = []\n",
    "    for p in found_p:\n",
    "        paragraph = p.find_next(\"p\")\n",
    "        if paragraph:\n",
    "            value = paragraph.text.replace(common_text, \"\").strip()\n",
    "            values.extend(value.split(\",\"))\n",
    "\n",
    "    return values"
   ]
  },
  {
   "cell_type": "code",
   "execution_count": 15,
   "id": "9f885d78-845f-47c9-a6ee-cca9ceffd327",
   "metadata": {
    "tags": []
   },
   "outputs": [],
   "source": [
    "# words to exclude in resulting array\n",
    "exclude_words = ['have','occur','include','known','provider','healthcare',\n",
    "                 'may','sometime','stop','form ', 'children','1088',\n",
    "                 'any','following','month','days',\n",
    "                 'include','reaction','last dose','Ref','manufacturer',\n",
    "                 'if you', 'allergic reaction','warning','notice','along','side effects', 'doctor', 'signs of','questions']\n",
    "\n",
    "#clean the scraped side effects text \n",
    "def clean_scraped_sfx(col_value):\n",
    "    \n",
    "    text = \"#\".join(col_value)\n",
    "    #remove \\ns\n",
    "    text = re.sub(r'\\n', '', text)\n",
    "\n",
    "    # Remove multiple whitespaces\n",
    "    text = re.sub(r'\\s+', ' ', text)\n",
    "\n",
    "    sentences = re.split(r\"[.;:)(#]\",text)\n",
    "\n",
    "    filtered_items = [item for item in sentences if not any(word in item for word in exclude_words)]\n",
    "\n",
    "    filtered_items = [item.strip() for item in filtered_items if item.strip()]\n",
    "\n",
    "    #filtered_items =[item.split(\",\") for item in filtered_items]\n",
    "    # flatten list\n",
    "    #filtered_items = [element for sublist in filtered_items for element in sublist]\n",
    "\n",
    "    # replace  values\n",
    "    filtered_items = [item.replace('severe', '').strip() for item in filtered_items]\n",
    "    filtered_items = [item.replace('more common', '').strip() for item in filtered_items]\n",
    "    filtered_items = [item.replace('especially on one side of the body', '').strip() for item in filtered_items]\n",
    "\n",
    "    # remove or from words start\n",
    "    filtered_items = filtered_items = [item[3:].strip() if item.startswith('or ') else item for item in filtered_items]\n",
    "    # remove duplicate/similar words to reduce redudancy\n",
    "   # filtered_items = remove_similar_duplicates(filtered_items)\n",
    "    # remove words less than length 2\n",
    "    filtered_items = [item.strip() for item in filtered_items if len(item)>2]\n",
    "\n",
    "    return filtered_items"
   ]
  },
  {
   "cell_type": "code",
   "execution_count": 16,
   "id": "056d3c80-4dff-4503-9366-ac4136fde77c",
   "metadata": {
    "tags": []
   },
   "outputs": [],
   "source": [
    "# scrape side effects from url\n",
    "def scrape_sfx(url):\n",
    "    # Send a GET request to the web page\n",
    "    response = requests.get(url)\n",
    "    \n",
    "    # Parse the HTML content using BeautifulSoup\n",
    "    soup = BeautifulSoup(response.text, 'lxml')\n",
    "    \n",
    "    sfx_link = None\n",
    "    for link in soup.find_all('a'):\n",
    "        try:\n",
    "            newlink = link.get('href')\n",
    "            #print(newlink)\n",
    "        except:\n",
    "             newlink = None\n",
    "        if newlink is not None and 'side-effects' in newlink :\n",
    "            sfx_link = link.get('href')\n",
    "            #print(newlink)\n",
    "            #print(sfx_link)\n",
    "            break\n",
    "    \n",
    "    if sfx_link:\n",
    "        sfx_url = \"https://www.drugs.com\" + sfx_link if not sfx_link.startswith('http') else sfx_link\n",
    "        sfx_response = None\n",
    "        try:\n",
    "            #print(sfx_url)\n",
    "            sfx_response = requests.get(sfx_url)\n",
    "            if sfx_response.status_code != 200:\n",
    "                return []\n",
    "        except:\n",
    "            #print(sfx_url)\n",
    "            return []\n",
    "            # sfx_url = url + sfx_link \n",
    "            # print(sfx_url)\n",
    "            # sfx_response = requests.get(sfx_url)\n",
    "    else:\n",
    "        return []\n",
    "\n",
    "        \n",
    "    \n",
    "    soup = BeautifulSoup(sfx_response.text, 'lxml')\n",
    "    \n",
    "    effects = find_elements(soup,\"Serious side effects\")\n",
    "    \n",
    "    effects2 = []\n",
    "    if len(effects) < 2:\n",
    "        effects2 = find_elements(soup,\"Less common\")\n",
    "    \n",
    "    if len(effects2) > len(effects):\n",
    "        effects = effects2\n",
    "\n",
    "    \n",
    "    if len(effects) < 2:\n",
    "        effects2 = find_elements(soup,\"More common\")\n",
    "    \n",
    "    if len(effects2) > len(effects):\n",
    "        effects = effects2\n",
    "    \n",
    "    if len(effects) < 1:\n",
    "        effects = sfx_from_paragraph(soup)\n",
    "    \n",
    "    if len(effects) < 1:\n",
    "        effects = sfx_from_paragraph(soup,common_text = \"General\", find = \"h3\")\n",
    "        \n",
    "    return effects"
   ]
  },
  {
   "cell_type": "markdown",
   "id": "3cda4616-6ef7-423d-a03c-50905619871c",
   "metadata": {},
   "source": [
    "### Cleaning missing side effects\n",
    "The missing links are extracted from the dataset and cleaned one by one.\n",
    "Some links with had different patterns where resulted to blank arrays."
   ]
  },
  {
   "cell_type": "code",
   "execution_count": 17,
   "id": "2acaaae3-0ae0-4a87-80e3-408483c60e00",
   "metadata": {
    "tags": []
   },
   "outputs": [],
   "source": [
    "# get missing drug links and index\n",
    "idx_link_ = df[df['sfx_count']==0]['drug_link'].index.to_list()\n",
    "\n",
    "links_ = df[df['sfx_count']==0]['drug_link'].to_list()"
   ]
  },
  {
   "cell_type": "code",
   "execution_count": 18,
   "id": "8ace4df2-4cf4-4b7e-8a15-6f510310b38c",
   "metadata": {
    "tags": []
   },
   "outputs": [
    {
     "name": "stdout",
     "output_type": "stream",
     "text": [
      "CPU times: user 2 µs, sys: 0 ns, total: 2 µs\n",
      "Wall time: 5.72 µs\n",
      "['Black, tarry stools', 'blistering, peeling, or loosening of the skin', 'changes in skin color', 'chest pain or tightness', 'chills', 'clay-colored stools', 'cough or hoarseness', 'dark urine', 'diarrhea', 'dizziness', 'fever', 'general feeling of tiredness or weakness', 'headache', 'itching, skin rash', 'joint or muscle pain', 'light-colored stools', 'loss of appetite', 'lower back or side pain', 'nausea', 'pain, tenderness, or swelling of the foot or leg', 'painful or difficult urination', 'pale skin', 'red skin lesions, often with a purple center', 'red, irritated eyes', 'sore throat', 'sores, ulcers, or white spots in the mouth or on the lips', 'stomach pain', 'swollen or painful glands', 'trouble breathing', 'unpleasant breath odor', 'unusual bleeding or bruising', 'vomiting of blood', 'yellow eyes or skin']\n",
      "['Peeling', 'redness']\n",
      "['Peeling', 'redness']\n",
      "['GI effects', 'anorexia', 'epigastric distress', 'nausea', 'vomiting', 'diarrhea', 'rash', 'dose-related BUN increases']\n",
      "['Burning, blistering, crusting, itching,  redness, or swelling of the skin', 'dryness or peeling of the skin', 'eye irritation', 'feeling of warmth, mild stinging, or redness of the skin', 'increased sensitivity of the skin to sunlight', 'oiliness or tenderness of the skin', 'painful irritation of the skin', 'redness or other discoloration of the skin', 'redness, swelling, or itching of the eyelid', 'sunburn', 'skin rash', 'swelling of the eyes, face, and nose']\n",
      "['hives', 'itching', 'red, swollen, blistered, or peeling skin with or without fever', 'wheezing', 'tightness in the chest or throat', 'trouble breathing, swallowing, or talking', 'unusual hoarseness', 'swelling of the mouth, face, lips, tongue, or throat', 'Skin irritation', 'Stevens-Johnson syndrome/toxic epidermal necrolysis', 'red, swollen, blistered, or peeling skin', 'red or irritated eyes', 'sores in your mouth, throat, nose, or eyes', 'fever, chills, or sore throat', 'cough that is new or worse', 'feeling very tired or weak']\n",
      "['hives', 'itching', 'red, swollen, blistered, or peeling skin with or without fever', 'wheezing', 'tightness in the chest or throat', 'trouble breathing, swallowing, or talking', 'unusual hoarseness', 'swelling of the mouth, face, lips, tongue, or throat', 'Skin irritation', 'Stevens-Johnson syndrome/toxic epidermal necrolysis', 'red, swollen, blistered, or peeling skin', 'red or irritated eyes', 'sores in your mouth, throat, nose, or eyes', 'fever, chills, or sore throat', 'cough that is new or worse', 'feeling very tired or weak']\n",
      "['hives', 'itching', 'red, swollen, blistered, or peeling skin with or without fever', 'wheezing', 'tightness in the chest or throat', 'trouble breathing, swallowing, or talking', 'unusual hoarseness', 'swelling of the mouth, face, lips, tongue, or throat', 'Skin irritation', 'Stevens-Johnson syndrome/toxic epidermal necrolysis', 'red, swollen, blistered, or peeling skin', 'red or irritated eyes', 'sores in your mouth, throat, nose, or eyes', 'fever, chills, or sore throat', 'cough that is new or worse', 'feeling very tired or weak']\n",
      "['hives', 'itching', 'red, swollen, blistered, or peeling skin with or without fever', 'wheezing', 'tightness in the chest or throat', 'trouble breathing, swallowing, or talking', 'unusual hoarseness', 'swelling of the mouth, face, lips, tongue, or throat', 'Skin irritation', 'Stevens-Johnson syndrome/toxic epidermal necrolysis', 'red, swollen, blistered, or peeling skin', 'red or irritated eyes', 'sores in your mouth, throat, nose, or eyes', 'fever, chills, or sore throat', 'cough that is new or worse', 'feeling very tired or weak']\n",
      "['Pain, burning, blistering, changes in color, dryness, itching, peeling, redness, scaling, stinging, or swelling of the skin where the medicine is applied']\n",
      "['Pain, burning, blistering, changes in color, dryness, itching, peeling, redness, scaling, stinging, or swelling of the skin where the medicine is applied']\n",
      "['hives', 'itching', 'red, swollen, blistered, or peeling skin with or without fever', 'wheezing', 'tightness in the chest or throat', 'trouble breathing, swallowing, or talking', 'unusual hoarseness', 'swelling of the mouth, face, lips, tongue, or throat', 'Skin irritation', 'Stevens-Johnson syndrome/toxic epidermal necrolysis', 'red, swollen, blistered, or peeling skin', 'red or irritated eyes', 'sores in your mouth, throat, nose, or eyes', 'fever, chills, or sore throat', 'cough that is new or worse', 'feeling very tired or weak']\n",
      "['Chest pain', 'fever', 'joint pain', 'skin rash or hives']\n",
      "['Chest pain', 'fever', 'joint pain', 'skin rash or hives']\n",
      "['Chest pain', 'fever', 'joint pain', 'skin rash or hives']\n",
      "[]\n",
      "['Drowsiness']\n",
      "['Drowsiness']\n",
      "['Aggression', 'agitation', 'anxiety', 'blurred vision', 'decrease in the amount of urine', 'dizziness', 'fast, slow, pounding, or irregular heartbeat or pulse', 'headache', 'irritability', 'mental depression', 'mood changes', 'nervousness', 'noisy, rattling breathing', 'numbness or tingling in the arms or legs', 'pounding in the ears', 'swelling of the fingers, hands, feet, or lower legs', 'trouble thinking, speaking, or walking', 'troubled breathing at rest', 'weight gain']\n",
      "[]\n",
      "['Diarrhea', 'dizziness', 'headache', 'hives', 'nausea or vomiting', 'skin rash', 'stomach pain']\n",
      "['Runny or stuffy nose', 'sneezing']\n",
      "['increased AST', 'and musculoskeletal pain']\n",
      "['Sedation', 'sleepiness', 'dizziness', 'disturbed coordination', 'epigastric distress', 'thickening of bronchial secretions']\n",
      "['Sedation', 'sleepiness', 'dizziness', 'disturbed coordination', 'epigastric distress', 'thickening of bronchial secretions']\n",
      "[]\n",
      "[]\n",
      "[]\n",
      "[]\n"
     ]
    }
   ],
   "source": [
    "%time\n",
    "## fill missing side effects\n",
    "for i, url in enumerate(links_):\n",
    "    txt = clean_scraped_sfx(scrape_sfx(url))\n",
    "    df.at[idx_link_[i],'side_effects'] = txt\n",
    "    print(txt)"
   ]
  },
  {
   "cell_type": "code",
   "execution_count": 19,
   "id": "ad350563-6945-45b0-96c5-d81ecc641c3d",
   "metadata": {
    "tags": []
   },
   "outputs": [
    {
     "name": "stdout",
     "output_type": "stream",
     "text": [
      "<class 'pandas.core.frame.DataFrame'>\n",
      "RangeIndex: 999 entries, 0 to 998\n",
      "Data columns (total 18 columns):\n",
      " #   Column                         Non-Null Count  Dtype  \n",
      "---  ------                         --------------  -----  \n",
      " 0   drug_name                      999 non-null    object \n",
      " 1   medical_condition              999 non-null    object \n",
      " 2   side_effects                   999 non-null    object \n",
      " 3   generic_name                   987 non-null    object \n",
      " 4   drug_classes                   978 non-null    object \n",
      " 5   brand_names                    613 non-null    object \n",
      " 6   activity                       999 non-null    object \n",
      " 7   rx_otc                         999 non-null    object \n",
      " 8   pregnancy_category             927 non-null    object \n",
      " 9   csa                            999 non-null    object \n",
      " 10  alcohol                        504 non-null    object \n",
      " 11  related_drugs                  491 non-null    object \n",
      " 12  medical_condition_description  999 non-null    object \n",
      " 13  rating                         507 non-null    float64\n",
      " 14  no_of_reviews                  507 non-null    float64\n",
      " 15  drug_link                      999 non-null    object \n",
      " 16  medical_condition_url          999 non-null    object \n",
      " 17  sfx_count                      999 non-null    int64  \n",
      "dtypes: float64(2), int64(1), object(15)\n",
      "memory usage: 140.6+ KB\n"
     ]
    }
   ],
   "source": [
    "df.info()"
   ]
  },
  {
   "cell_type": "markdown",
   "id": "9fff4ec7-50ac-4c7c-9d65-ff515e2437cb",
   "metadata": {
    "tags": []
   },
   "source": [
    "**drop irreleavant columns**"
   ]
  },
  {
   "cell_type": "code",
   "execution_count": 20,
   "id": "35759f88-450d-4b22-84e0-05df65989e13",
   "metadata": {
    "tags": []
   },
   "outputs": [],
   "source": [
    "df.drop(['medical_condition_url','drug_link','no_of_reviews','sfx_count'],axis=1, inplace=True)"
   ]
  },
  {
   "cell_type": "code",
   "execution_count": 21,
   "id": "60c31f41-26f4-455f-992e-24e1e7fa96b5",
   "metadata": {
    "tags": []
   },
   "outputs": [
    {
     "name": "stdout",
     "output_type": "stream",
     "text": [
      "<class 'pandas.core.frame.DataFrame'>\n",
      "RangeIndex: 999 entries, 0 to 998\n",
      "Data columns (total 14 columns):\n",
      " #   Column                         Non-Null Count  Dtype  \n",
      "---  ------                         --------------  -----  \n",
      " 0   drug_name                      999 non-null    object \n",
      " 1   medical_condition              999 non-null    object \n",
      " 2   side_effects                   999 non-null    object \n",
      " 3   generic_name                   987 non-null    object \n",
      " 4   drug_classes                   978 non-null    object \n",
      " 5   brand_names                    613 non-null    object \n",
      " 6   activity                       999 non-null    object \n",
      " 7   rx_otc                         999 non-null    object \n",
      " 8   pregnancy_category             927 non-null    object \n",
      " 9   csa                            999 non-null    object \n",
      " 10  alcohol                        504 non-null    object \n",
      " 11  related_drugs                  491 non-null    object \n",
      " 12  medical_condition_description  999 non-null    object \n",
      " 13  rating                         507 non-null    float64\n",
      "dtypes: float64(1), object(13)\n",
      "memory usage: 109.4+ KB\n"
     ]
    }
   ],
   "source": [
    "df.info()"
   ]
  },
  {
   "cell_type": "markdown",
   "id": "319c0aa2-756d-4ba8-af26-7a7339821bed",
   "metadata": {},
   "source": [
    "## Handling other missing columns\n",
    "<b>Note:</b> Similar approach taken to handle missing side effects can be used, to scrape \n",
    "the missing drug_classes, brand_name, related_drugs and ratings.\n",
    "\n",
    "But due to my limited availabilty to work on this \"Case Study Assessment\" i will be ignoring these missing columns."
   ]
  },
  {
   "cell_type": "code",
   "execution_count": 22,
   "id": "29654a1f-a58d-4543-a1fd-fb7261d16288",
   "metadata": {
    "tags": []
   },
   "outputs": [
    {
     "data": {
      "text/plain": [
       "pregnancy_category\n",
       "C    444\n",
       "N    168\n",
       "B    159\n",
       "D     95\n",
       "X     61\n",
       "Name: count, dtype: int64"
      ]
     },
     "execution_count": 22,
     "metadata": {},
     "output_type": "execute_result"
    }
   ],
   "source": [
    "df['pregnancy_category'].value_counts()"
   ]
  },
  {
   "cell_type": "markdown",
   "id": "d31b29b7-3af6-4704-9c70-cd079abc64ed",
   "metadata": {},
   "source": [
    "## Clean Other Columns"
   ]
  },
  {
   "cell_type": "code",
   "execution_count": 23,
   "id": "fdb64ace-8e3a-4ffc-8fac-54a5ee4905de",
   "metadata": {
    "tags": []
   },
   "outputs": [],
   "source": [
    "# cleans the class brand column\n",
    "def clean_class_brand(col_value):\n",
    "    \n",
    "    if col_value is np.nan:\n",
    "        return []\n",
    "\n",
    "    item_lst = []\n",
    "    item_lst = re.split(r\"[.;:),/(#]\", str(col_value))\n",
    "    item_lst = [item.strip() for item in item_lst if item.strip()]\n",
    "\n",
    "    return item_lst"
   ]
  },
  {
   "cell_type": "code",
   "execution_count": 24,
   "id": "c70f0d2e-3b9c-4e76-9456-341ea6c835e9",
   "metadata": {
    "tags": []
   },
   "outputs": [
    {
     "data": {
      "text/plain": [
       "0           [Miscellaneous antimalarials, Tetracyclines]\n",
       "1      [Aldosterone receptor antagonists, Potassium-s...\n",
       "2                                        [Tetracyclines]\n",
       "3      [Miscellaneous antineoplastics, Miscellaneous ...\n",
       "4         [Topical acne agents, Vaginal anti-infectives]\n",
       "                             ...                        \n",
       "994                     [Upper respiratory combinations]\n",
       "995                                [Topical rubefacient]\n",
       "996                     [Upper respiratory combinations]\n",
       "997                     [Upper respiratory combinations]\n",
       "998                     [Upper respiratory combinations]\n",
       "Name: drug_classes, Length: 999, dtype: object"
      ]
     },
     "execution_count": 24,
     "metadata": {},
     "output_type": "execute_result"
    }
   ],
   "source": [
    "df['drug_classes'] = df['drug_classes'].apply(clean_class_brand)\n",
    "df['drug_classes']"
   ]
  },
  {
   "cell_type": "code",
   "execution_count": 25,
   "id": "b6f94cbe-5db5-4996-94ff-534163beaa05",
   "metadata": {
    "tags": []
   },
   "outputs": [
    {
     "data": {
      "text/plain": [
       "0      [Acticlate, Adoxa CK, Adoxa Pak, Adoxa TT, Alo...\n",
       "1                                  [Aldactone, CaroSpir]\n",
       "2      [Dynacin, Minocin, Minolira, Solodyn, Ximino, ...\n",
       "3                                                     []\n",
       "4      [Cleocin T, Clindacin ETZ, Clindacin P, Clinda...\n",
       "                             ...                        \n",
       "994    [Mapap Cold Formula, Robitussin Peak Cold Dayt...\n",
       "995    [Anti-Itch Steroid Free, Arctic Relief, Avedan...\n",
       "996                                                   []\n",
       "997    [Ambifed CD, Biotussin DAC, Cheratussin DAC, L...\n",
       "998             [Aphedrid, A-Phedrin, Aprodine, Vi-Sudo]\n",
       "Name: brand_names, Length: 999, dtype: object"
      ]
     },
     "execution_count": 25,
     "metadata": {},
     "output_type": "execute_result"
    }
   ],
   "source": [
    "df['brand_names'] = df['brand_names'].apply(clean_class_brand)\n",
    "df['brand_names']"
   ]
  },
  {
   "cell_type": "code",
   "execution_count": 26,
   "id": "c979b9f9-cf14-4690-93f1-a28c50a8054a",
   "metadata": {
    "tags": []
   },
   "outputs": [],
   "source": [
    "#cleans related drugs col\n",
    "def clean_related_drug(col_value):\n",
    "    \n",
    "    if col_value is np.nan:\n",
    "        return []\n",
    "    \n",
    "    \n",
    "    item_lst = []\n",
    "    item_lst = re.split(r\"[|]\",str(col_value))\n",
    "    item_lst = [item.split(\":\")[0].strip() for item in item_lst]\n",
    "    \n",
    "    return item_lst"
   ]
  },
  {
   "cell_type": "code",
   "execution_count": 27,
   "id": "8ed9a5d4-8fe7-48df-8f87-c875da7e2cf2",
   "metadata": {
    "tags": []
   },
   "outputs": [
    {
     "data": {
      "text/plain": [
       "0      [amoxicillin, prednisone, albuterol, ciproflox...\n",
       "1      [amlodipine, lisinopril, losartan, metoprolol,...\n",
       "2      [amoxicillin, prednisone, doxycycline, ciprofl...\n",
       "3      [doxycycline, clindamycin topical, erythromyci...\n",
       "4      [doxycycline, metronidazole, metronidazole top...\n",
       "                             ...                        \n",
       "994                                                   []\n",
       "995    [Buprenex, aspirin, acetaminophen, tramadol, T...\n",
       "996    [Benadryl, diphenhydramine, chlorpheniramine, ...\n",
       "997    [Benadryl, diphenhydramine, chlorpheniramine, ...\n",
       "998                                                   []\n",
       "Name: related_drugs, Length: 999, dtype: object"
      ]
     },
     "execution_count": 27,
     "metadata": {},
     "output_type": "execute_result"
    }
   ],
   "source": [
    "df['related_drugs'] = df['related_drugs'].apply(clean_related_drug)\n",
    "df['related_drugs']"
   ]
  },
  {
   "cell_type": "markdown",
   "id": "ac6f2d03-e516-4c58-9031-64bc47f81676",
   "metadata": {},
   "source": [
    "fill the missing column with \"N/A\" and 0 for float values (ratings)"
   ]
  },
  {
   "cell_type": "code",
   "execution_count": 28,
   "id": "11656e06-1e40-4542-b997-33dc5aede0d2",
   "metadata": {
    "tags": []
   },
   "outputs": [
    {
     "name": "stdout",
     "output_type": "stream",
     "text": [
      "<class 'pandas.core.frame.DataFrame'>\n",
      "RangeIndex: 999 entries, 0 to 998\n",
      "Data columns (total 14 columns):\n",
      " #   Column                         Non-Null Count  Dtype  \n",
      "---  ------                         --------------  -----  \n",
      " 0   drug_name                      999 non-null    object \n",
      " 1   medical_condition              999 non-null    object \n",
      " 2   side_effects                   999 non-null    object \n",
      " 3   generic_name                   987 non-null    object \n",
      " 4   drug_classes                   999 non-null    object \n",
      " 5   brand_names                    999 non-null    object \n",
      " 6   activity                       999 non-null    object \n",
      " 7   rx_otc                         999 non-null    object \n",
      " 8   pregnancy_category             927 non-null    object \n",
      " 9   csa                            999 non-null    object \n",
      " 10  alcohol                        504 non-null    object \n",
      " 11  related_drugs                  999 non-null    object \n",
      " 12  medical_condition_description  999 non-null    object \n",
      " 13  rating                         507 non-null    float64\n",
      "dtypes: float64(1), object(13)\n",
      "memory usage: 109.4+ KB\n"
     ]
    }
   ],
   "source": [
    "df.info()"
   ]
  },
  {
   "cell_type": "markdown",
   "id": "06cb557c-656c-41fc-aa2b-0a4db5268e88",
   "metadata": {},
   "source": [
    "## Missing values handling"
   ]
  },
  {
   "cell_type": "code",
   "execution_count": 30,
   "id": "c2c4727f-dffc-485f-997e-10f03e51a1cb",
   "metadata": {
    "tags": []
   },
   "outputs": [],
   "source": [
    "# fill the missing values with \"N/A\" for Not avaialbe for string and 0 for integer\n",
    "df[['generic_name','pregnancy_category','alcohol']] = df[['generic_name','pregnancy_category','alcohol']].fillna(\"N/A\")\n",
    "df['rating'] = df['rating'].fillna(0)"
   ]
  },
  {
   "cell_type": "code",
   "execution_count": 31,
   "id": "8d245e7b-8ace-4529-814c-d92ffb2e6693",
   "metadata": {
    "tags": []
   },
   "outputs": [
    {
     "name": "stdout",
     "output_type": "stream",
     "text": [
      "<class 'pandas.core.frame.DataFrame'>\n",
      "RangeIndex: 999 entries, 0 to 998\n",
      "Data columns (total 14 columns):\n",
      " #   Column                         Non-Null Count  Dtype  \n",
      "---  ------                         --------------  -----  \n",
      " 0   drug_name                      999 non-null    object \n",
      " 1   medical_condition              999 non-null    object \n",
      " 2   side_effects                   999 non-null    object \n",
      " 3   generic_name                   999 non-null    object \n",
      " 4   drug_classes                   999 non-null    object \n",
      " 5   brand_names                    999 non-null    object \n",
      " 6   activity                       999 non-null    object \n",
      " 7   rx_otc                         999 non-null    object \n",
      " 8   pregnancy_category             999 non-null    object \n",
      " 9   csa                            999 non-null    object \n",
      " 10  alcohol                        999 non-null    object \n",
      " 11  related_drugs                  999 non-null    object \n",
      " 12  medical_condition_description  999 non-null    object \n",
      " 13  rating                         999 non-null    float64\n",
      "dtypes: float64(1), object(13)\n",
      "memory usage: 109.4+ KB\n"
     ]
    }
   ],
   "source": [
    "df.info()"
   ]
  },
  {
   "cell_type": "code",
   "execution_count": 33,
   "id": "a4ad26e7-6c3b-4cc4-97eb-68bccc4aee52",
   "metadata": {
    "tags": []
   },
   "outputs": [],
   "source": [
    "df.drug_name = df.drug_name.str.lower().str.strip()"
   ]
  },
  {
   "cell_type": "code",
   "execution_count": 34,
   "id": "1abb5924-65b8-4af5-97ca-6dfe55c1093b",
   "metadata": {
    "tags": []
   },
   "outputs": [],
   "source": [
    "# save data to fastparquet\n",
    "df.to_parquet('clean_drug_master.parquet', engine='fastparquet', index=False)"
   ]
  },
  {
   "cell_type": "code",
   "execution_count": null,
   "id": "91ad6453-3272-4814-bee8-a0432b2808e4",
   "metadata": {},
   "outputs": [],
   "source": []
  }
 ],
 "metadata": {
  "kernelspec": {
   "display_name": "default:Python",
   "language": "python",
   "name": "conda-env-default-py"
  },
  "language_info": {
   "codemirror_mode": {
    "name": "ipython",
    "version": 3
   },
   "file_extension": ".py",
   "mimetype": "text/x-python",
   "name": "python",
   "nbconvert_exporter": "python",
   "pygments_lexer": "ipython3",
   "version": "3.9.16"
  }
 },
 "nbformat": 4,
 "nbformat_minor": 5
}
